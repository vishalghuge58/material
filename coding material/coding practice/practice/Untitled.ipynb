{
 "cells": [
  {
   "cell_type": "code",
   "execution_count": 2,
   "id": "8338fb59",
   "metadata": {},
   "outputs": [
    {
     "name": "stdout",
     "output_type": "stream",
     "text": [
      "this\\has\\no\\special\\characters\n"
     ]
    }
   ],
   "source": [
    "s = r'this\\has\\no\\special\\characters'\n",
    "print(s)"
   ]
  },
  {
   "cell_type": "code",
   "execution_count": 5,
   "id": "21d8d6e2",
   "metadata": {},
   "outputs": [
    {
     "name": "stdout",
     "output_type": "stream",
     "text": [
      "<generator object fibo_gener at 0x0000027249530CF0>\n"
     ]
    },
    {
     "data": {
      "text/plain": [
       "['__class__',\n",
       " '__del__',\n",
       " '__delattr__',\n",
       " '__dir__',\n",
       " '__doc__',\n",
       " '__eq__',\n",
       " '__format__',\n",
       " '__ge__',\n",
       " '__getattribute__',\n",
       " '__gt__',\n",
       " '__hash__',\n",
       " '__init__',\n",
       " '__init_subclass__',\n",
       " '__iter__',\n",
       " '__le__',\n",
       " '__lt__',\n",
       " '__name__',\n",
       " '__ne__',\n",
       " '__new__',\n",
       " '__next__',\n",
       " '__qualname__',\n",
       " '__reduce__',\n",
       " '__reduce_ex__',\n",
       " '__repr__',\n",
       " '__setattr__',\n",
       " '__sizeof__',\n",
       " '__str__',\n",
       " '__subclasshook__',\n",
       " 'close',\n",
       " 'gi_code',\n",
       " 'gi_frame',\n",
       " 'gi_running',\n",
       " 'gi_yieldfrom',\n",
       " 'send',\n",
       " 'throw']"
      ]
     },
     "execution_count": 5,
     "metadata": {},
     "output_type": "execute_result"
    }
   ],
   "source": [
    "def fibo_gener(number):\n",
    "    \n",
    "    a,b=0,1\n",
    "    \n",
    "    for i in range(number):\n",
    "        yield a\n",
    "        a,b=b,a+b\n",
    "        \n",
    "fibo_generator_obj=fibo_gener(5)        \n",
    "print(fibo_generator_obj)   \n",
    "dir(fibo_generator_obj)"
   ]
  },
  {
   "cell_type": "code",
   "execution_count": null,
   "id": "114820b5",
   "metadata": {},
   "outputs": [],
   "source": []
  },
  {
   "cell_type": "code",
   "execution_count": 1,
   "id": "9a79e3c8",
   "metadata": {},
   "outputs": [
    {
     "name": "stdout",
     "output_type": "stream",
     "text": [
      "300\n"
     ]
    }
   ],
   "source": [
    "def myfunc():\n",
    "  x = 300\n",
    "  def myinnerfunc():\n",
    "    print(x)\n",
    "  myinnerfunc()\n",
    "\n",
    "myfunc()"
   ]
  },
  {
   "cell_type": "code",
   "execution_count": 9,
   "id": "413e465b",
   "metadata": {},
   "outputs": [
    {
     "name": "stdout",
     "output_type": "stream",
     "text": [
      "5\n"
     ]
    }
   ],
   "source": [
    "list1=[1,2,3,4,6]\n",
    "tuple1=1,5,6,7,9\n",
    "dict1=zip(list1,tuple1)\n",
    "dict1=dict(dict1)\n",
    "print(dict1.pop(2))"
   ]
  },
  {
   "cell_type": "code",
   "execution_count": 1,
   "id": "7ac362cf",
   "metadata": {},
   "outputs": [
    {
     "data": {
      "text/plain": [
       "['V', 'i', 's', 'h', 'a', 'l']"
      ]
     },
     "execution_count": 1,
     "metadata": {},
     "output_type": "execute_result"
    }
   ],
   "source": [
    "string=\"Vishal\"\n",
    "result=[x for x in string]\n",
    "result"
   ]
  },
  {
   "cell_type": "code",
   "execution_count": 7,
   "id": "b9246b11",
   "metadata": {},
   "outputs": [
    {
     "name": "stdout",
     "output_type": "stream",
     "text": [
      "<class 'range'>\n",
      "[0, 1, 2, 3, 4, 5, 6, 7, 8, 9]\n",
      "0\n",
      "1\n",
      "2\n",
      "3\n",
      "4\n",
      "5\n",
      "6\n",
      "7\n",
      "8\n",
      "9\n"
     ]
    }
   ],
   "source": [
    "def fab ():\n",
    "    \n",
    "    for i in range(10):\n",
    "        yield i\n",
    "\n",
    "y=range(10)\n",
    "print(type(y))\n",
    "v=fab()\n",
    "print(list(fab()))\n",
    "for i in y:\n",
    "    print(i)"
   ]
  },
  {
   "cell_type": "code",
   "execution_count": 39,
   "id": "bf5a9cd7",
   "metadata": {},
   "outputs": [
    {
     "name": "stdout",
     "output_type": "stream",
     "text": [
      "<class 'generator'>\n",
      "[0, 2, 4, 6, 8]\n"
     ]
    }
   ],
   "source": []
  },
  {
   "cell_type": "code",
   "execution_count": 50,
   "id": "62b82392",
   "metadata": {},
   "outputs": [
    {
     "name": "stdout",
     "output_type": "stream",
     "text": [
      "enter the item or q for quit: 11\n",
      "enter the item or q for quit: 55\n",
      "enter the item or q for quit: 77\n",
      "enter the item or q for quit: 33\n",
      "enter the item or q for quit: 44\n",
      "enter the item or q for quit: genrator\n",
      "enter the item or q for quit: q\n",
      "which comprehension you want: genrator\n",
      "<generator object <genexpr> at 0x000002317F2DA6D0>\n"
     ]
    }
   ],
   "source": [
    "item=[]\n",
    "while True:\n",
    "    item.append(input(\"enter the item or q for quit: \"))\n",
    "    if \"q\" in item:\n",
    "        break\n",
    "comprihebsion=input(\"which comprehension you want: \")        \n",
    "if comprihebsion==\"list\":\n",
    "    print([items for items in item])\n",
    "elif comprihebsion==\"set\":\n",
    "    print({items for items in item})\n",
    "elif comprihebsion==\"dict\":\n",
    "    print({index:items for index,items in enumerate(item)})  \n",
    "elif comprihebsion==\"genrator\":\n",
    "    gen=(items for items in item)   \n",
    "    print(gen)\n",
    "    "
   ]
  },
  {
   "cell_type": "code",
   "execution_count": null,
   "id": "a42b6aee",
   "metadata": {},
   "outputs": [],
   "source": []
  },
  {
   "cell_type": "code",
   "execution_count": 61,
   "id": "fe3f6268",
   "metadata": {},
   "outputs": [
    {
     "name": "stdout",
     "output_type": "stream",
     "text": [
      "hellow\n",
      "hellow\n",
      "hellow\n",
      "hellow\n",
      "hellow\n",
      "hellow\n",
      "hellow\n",
      "hellow\n",
      "hellow\n",
      "<class 'reversed'>\n",
      "vi\n",
      "<class 'NoneType'>\n"
     ]
    }
   ],
   "source": [
    "\n",
    "from functools import lru_cache\n",
    "\n",
    "\n",
    "@lru_cache(maxsize=2)\n",
    "def num(number):\n",
    "    for i in range(number):\n",
    "        print(\"hellow\")\n",
    "        \n",
    "        \n",
    "num(1)  \n",
    "num(2)\n",
    "num(3)\n",
    "num(3)\n",
    "num(1)\n",
    "num(2)\n",
    "\n",
    "v=reversed(\"vi\")\n",
    "print(type(v))\n",
    "y=print(\"vi\")\n",
    "print(type(y))"
   ]
  },
  {
   "cell_type": "code",
   "execution_count": 68,
   "id": "02f75c25",
   "metadata": {},
   "outputs": [
    {
     "name": "stdout",
     "output_type": "stream",
     "text": [
      "Hello\n",
      "inithalizing\n",
      "the text in book\n",
      "the text is not on book \n"
     ]
    },
    {
     "ename": "StopIteration",
     "evalue": "",
     "output_type": "error",
     "traceback": [
      "\u001b[1;31m---------------------------------------------------------------------------\u001b[0m",
      "\u001b[1;31mStopIteration\u001b[0m                             Traceback (most recent call last)",
      "Input \u001b[1;32mIn [68]\u001b[0m, in \u001b[0;36m<cell line: 21>\u001b[1;34m()\u001b[0m\n\u001b[0;32m     19\u001b[0m sear\u001b[38;5;241m.\u001b[39msend(\u001b[38;5;124m\"\u001b[39m\u001b[38;5;124mRudra\u001b[39m\u001b[38;5;124m\"\u001b[39m)\n\u001b[0;32m     20\u001b[0m sear\u001b[38;5;241m.\u001b[39mclose()\n\u001b[1;32m---> 21\u001b[0m \u001b[43msear\u001b[49m\u001b[38;5;241;43m.\u001b[39;49m\u001b[43msend\u001b[49m\u001b[43m(\u001b[49m\u001b[38;5;124;43m\"\u001b[39;49m\u001b[38;5;124;43mRudra\u001b[39;49m\u001b[38;5;124;43m\"\u001b[39;49m\u001b[43m)\u001b[49m\n",
      "\u001b[1;31mStopIteration\u001b[0m: "
     ]
    }
   ],
   "source": [
    "import time\n",
    "\n",
    "def search():\n",
    "    book=\"my name is vishal and i am living in pune\"\n",
    "    time.sleep(4)\n",
    "    \n",
    "    while True:\n",
    "        text=(yield)\n",
    "        if text in book:\n",
    "            print(\"the text in book\")\n",
    "        else:\n",
    "            print(\"the text is not on book \")\n",
    "            \n",
    "print(\"Hello\")\n",
    "sear=search()\n",
    "print(\"inithalizing\")\n",
    "next(sear)\n",
    "sear.send(\"vishal\")\n",
    "sear.send(\"Rudra\")\n",
    "sear.close()\n",
    "sear.send(\"Rudra\")\n",
    "\n",
    "\n",
    "            \n",
    "            \n",
    "            \n",
    "            \n",
    "            \n",
    "            \n",
    "            "
   ]
  },
  {
   "cell_type": "code",
   "execution_count": 9,
   "id": "ec5843d2",
   "metadata": {},
   "outputs": [
    {
     "name": "stdout",
     "output_type": "stream",
     "text": [
      "(1, 2, 3, 1, 2, 3, 1, 2, 3)\n"
     ]
    }
   ],
   "source": [
    "print((1,2,3)*3)"
   ]
  },
  {
   "cell_type": "code",
   "execution_count": 78,
   "id": "a697c2a2",
   "metadata": {},
   "outputs": [
    {
     "name": "stdout",
     "output_type": "stream",
     "text": [
      "initalizing\n",
      "the letter is not in text file \n",
      "the letter is in text file\n"
     ]
    }
   ],
   "source": [
    "def search():\n",
    "    f=open(\"my.txt\")\n",
    "    line=f.read()\n",
    "    while True:\n",
    "        text=(yield)\n",
    "        if text in line:\n",
    "            print(\"the letter is in text file\")\n",
    "        else:\n",
    "            print(\"the letter is not in text file \")\n",
    "            \n",
    "my=search()\n",
    "print(\"initalizing\")\n",
    "next(my)\n",
    "my.send(\"Rudra\")\n",
    "my.send(\"vishal\")"
   ]
  },
  {
   "cell_type": "code",
   "execution_count": 79,
   "id": "19ff588f",
   "metadata": {},
   "outputs": [
    {
     "data": {
      "text/plain": [
       "{'a': ['apple', 'atom'], 'b': ['bat', 'bar', 'book']}"
      ]
     },
     "execution_count": 79,
     "metadata": {},
     "output_type": "execute_result"
    }
   ],
   "source": [
    "words = ['apple', 'bat', 'bar', 'atom', 'book']\n",
    "by_letter={}\n",
    "\n",
    "for word in words:\n",
    "    letter = word[0]\n",
    "    by_letter.setdefault(letter, []).append(word)\n",
    "    \n",
    "by_letter    "
   ]
  },
  {
   "cell_type": "code",
   "execution_count": 16,
   "id": "806737e4",
   "metadata": {},
   "outputs": [
    {
     "data": {
      "text/plain": [
       "True"
      ]
     },
     "execution_count": 16,
     "metadata": {},
     "output_type": "execute_result"
    }
   ],
   "source": [
    " {2, 1, 3} == {3, 2, 1}\n"
   ]
  }
 ],
 "metadata": {
  "kernelspec": {
   "display_name": "Python 3 (ipykernel)",
   "language": "python",
   "name": "python3"
  },
  "language_info": {
   "codemirror_mode": {
    "name": "ipython",
    "version": 3
   },
   "file_extension": ".py",
   "mimetype": "text/x-python",
   "name": "python",
   "nbconvert_exporter": "python",
   "pygments_lexer": "ipython3",
   "version": "3.9.13"
  }
 },
 "nbformat": 4,
 "nbformat_minor": 5
}
